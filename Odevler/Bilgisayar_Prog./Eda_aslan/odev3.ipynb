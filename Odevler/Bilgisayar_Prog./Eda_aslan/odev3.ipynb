{
  "nbformat": 4,
  "nbformat_minor": 0,
  "metadata": {
    "colab": {
      "provenance": []
    },
    "kernelspec": {
      "name": "python3",
      "display_name": "Python 3"
    },
    "language_info": {
      "name": "python"
    }
  },
  "cells": [
    {
      "cell_type": "code",
      "execution_count": 1,
      "metadata": {
        "colab": {
          "base_uri": "https://localhost:8080/"
        },
        "id": "X1UZMICBULa_",
        "outputId": "932989c1-c0ef-451d-8e4f-d4f0c05421b9"
      },
      "outputs": [
        {
          "output_type": "stream",
          "name": "stdout",
          "text": [
            "         *\n",
            "        ***\n",
            "       *****\n",
            "      *******\n",
            "     *********\n",
            "    ***********\n",
            "   *************\n",
            "  ***************\n",
            " *****************\n",
            "*******************\n"
          ]
        }
      ],
      "source": [
        "for i in range(1, 11):\n",
        "    bslk = \" \" * (10 - i)\n",
        "    yldz = \"*\" * (2 * i - 1)\n",
        "    print(bslk + yldz)"
      ]
    },
    {
      "cell_type": "code",
      "source": [
        "para = 10000\n",
        "faiz = 0.15\n",
        "mktr = para * 2\n",
        "yil = 0\n",
        "\n",
        "while para < mktr:\n",
        "    para += para * faiz\n",
        "    yil += 1\n",
        "\n",
        "print(f\"Orijinal yatırımınızı ikiye katlamak için gereken yıl sayısı: {yil} yıl\")"
      ],
      "metadata": {
        "colab": {
          "base_uri": "https://localhost:8080/"
        },
        "id": "UEQrLOdTUTV4",
        "outputId": "e9e3a4de-1246-43b4-ff07-f14870180c2d"
      },
      "execution_count": 3,
      "outputs": [
        {
          "output_type": "stream",
          "name": "stdout",
          "text": [
            "Orijinal yatırımınızı ikiye katlamak için gereken yıl sayısı: 5 yıl\n"
          ]
        }
      ]
    },
    {
      "cell_type": "code",
      "source": [
        "def populasyonu(hedef):\n",
        "    msayisi = int(input(\"Başlangıçtaki mikroorganizma sayısını girin: \"))\n",
        "    saat = 0\n",
        "    while msayisi < hedef:\n",
        "        msayisi *= 2\n",
        "        saat += 10\n",
        "    gun = saat // 24\n",
        "    kalan_saat = saat % 24\n",
        "    print(f\"{hedef} mikroorganizmaya ulaşmak için geçen süre: {gun} gün {kalan_saat} saat\")\n",
        "\n",
        "hedef = 1000000\n",
        "populasyonu(hedef)\n"
      ],
      "metadata": {
        "colab": {
          "base_uri": "https://localhost:8080/"
        },
        "id": "-mEsE6syUVNv",
        "outputId": "ecef8c6d-fd0b-4c83-d3b6-6081d3dc80e0"
      },
      "execution_count": 6,
      "outputs": [
        {
          "output_type": "stream",
          "name": "stdout",
          "text": [
            "Başlangıçtaki mikroorganizma sayısını girin: 20\n",
            "1000000 mikroorganizmaya ulaşmak için geçen süre: 6 gün 16 saat\n"
          ]
        }
      ]
    },
    {
      "cell_type": "code",
      "source": [
        "toplam = 0\n",
        "sayac = 0\n",
        "while True:\n",
        "    giris = input(\"Pozitif sayı giriniz: \")\n",
        "\n",
        "    if giris[0] == '-':\n",
        "        break\n",
        "    if not giris.isdigit():\n",
        "        print(\"Pozitif sayı giriniz.\")\n",
        "    deger = int(giris)\n",
        "    toplam += deger\n",
        "    sayac += 1\n",
        "if sayac > 0:\n",
        "    ortalama = toplam / sayac\n",
        "    print(f\"Girilen sayıların ortalaması: {ortalama:.2f}\")\n",
        "else:\n",
        "    print(\"Pozitif sayı girilmedi.\")\n"
      ],
      "metadata": {
        "colab": {
          "base_uri": "https://localhost:8080/"
        },
        "id": "yKwL5890UW8P",
        "outputId": "41e3b505-4836-497e-b69f-27a6db7b46da"
      },
      "execution_count": 7,
      "outputs": [
        {
          "output_type": "stream",
          "name": "stdout",
          "text": [
            "Pozitif sayı giriniz: 8\n",
            "Pozitif sayı giriniz: 7\n",
            "Pozitif sayı giriniz: 6\n",
            "Pozitif sayı giriniz: 5\n",
            "Pozitif sayı giriniz: 2\n",
            "Pozitif sayı giriniz: -2\n",
            "Girilen sayıların ortalaması: 5.60\n"
          ]
        }
      ]
    },
    {
      "cell_type": "code",
      "source": [
        "import random\n",
        "def tahmin():\n",
        "    sayi = random.randint(1, 10)\n",
        "    tahminler = 0\n",
        "    while True:\n",
        "        tahmin = int(input(\"1 ile 10 arasında bir sayı tahmin edin: \"))\n",
        "        tahminler += 1\n",
        "        if tahmin <sayi:\n",
        "            print(\"Daha büyük bir sayı girin.\")\n",
        "        elif tahmin > sayi:\n",
        "            print(\"Daha küçük bir sayı girin.\")\n",
        "        else:\n",
        "            print(f\"Tebrikler! {sayi} sayısını {tahminler} tahminde buldunuz.\")\n",
        "            break\n",
        "tahmin()\n"
      ],
      "metadata": {
        "colab": {
          "base_uri": "https://localhost:8080/"
        },
        "id": "8-EHsDrXUY3P",
        "outputId": "825d118e-0813-4ab6-c67c-e2e99f010d39"
      },
      "execution_count": 8,
      "outputs": [
        {
          "output_type": "stream",
          "name": "stdout",
          "text": [
            "1 ile 10 arasında bir sayı tahmin edin: 5\n",
            "Daha büyük bir sayı girin.\n",
            "1 ile 10 arasında bir sayı tahmin edin: 8\n",
            "Daha büyük bir sayı girin.\n",
            "1 ile 10 arasında bir sayı tahmin edin: 9\n",
            "Tebrikler! 9 sayısını 3 tahminde buldunuz.\n"
          ]
        }
      ]
    }
  ]
}
